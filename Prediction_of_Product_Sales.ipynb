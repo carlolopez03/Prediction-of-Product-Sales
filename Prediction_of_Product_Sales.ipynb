{
  "nbformat": 4,
  "nbformat_minor": 0,
  "metadata": {
    "colab": {
      "provenance": [],
      "authorship_tag": "ABX9TyMyqe8Zgt29a8vs7p6RmSA+",
      "include_colab_link": true
    },
    "kernelspec": {
      "name": "python3",
      "display_name": "Python 3"
    },
    "language_info": {
      "name": "python"
    }
  },
  "cells": [
    {
      "cell_type": "markdown",
      "metadata": {
        "id": "view-in-github",
        "colab_type": "text"
      },
      "source": [
        "<a href=\"https://colab.research.google.com/github/carlolopez03/Prediction-of-Product-Sales/blob/main/Prediction_of_Product_Sales.ipynb\" target=\"_parent\"><img src=\"https://colab.research.google.com/assets/colab-badge.svg\" alt=\"Open In Colab\"/></a>"
      ]
    },
    {
      "cell_type": "markdown",
      "source": [
        "# **Prediction of Product Sales**\n",
        "  Author: Carlo Lopez"
      ],
      "metadata": {
        "id": "_eZ-ZlERnwLl"
      }
    },
    {
      "cell_type": "markdown",
      "source": [
        "## **Project Overview**"
      ],
      "metadata": {
        "id": "mH4X_moKpH8F"
      }
    },
    {
      "cell_type": "markdown",
      "source": [
        "## **Load and Inspect Data**"
      ],
      "metadata": {
        "id": "odturo8SpeFI"
      }
    },
    {
      "cell_type": "code",
      "source": [],
      "metadata": {
        "id": "1UAQOPKSptjY"
      },
      "execution_count": null,
      "outputs": []
    },
    {
      "cell_type": "markdown",
      "source": [
        "## **Clean Data**"
      ],
      "metadata": {
        "id": "VFxfCH7wpt75"
      }
    },
    {
      "cell_type": "code",
      "source": [],
      "metadata": {
        "id": "gAJEzTAwp2ML"
      },
      "execution_count": null,
      "outputs": []
    },
    {
      "cell_type": "markdown",
      "source": [
        "## **Exploratory Data Analysis**"
      ],
      "metadata": {
        "id": "Mst0CVP6p2fg"
      }
    },
    {
      "cell_type": "code",
      "source": [],
      "metadata": {
        "id": "yaosIfFDqEtX"
      },
      "execution_count": null,
      "outputs": []
    },
    {
      "cell_type": "markdown",
      "source": [
        "## **Feature Inspection**"
      ],
      "metadata": {
        "id": "pyM2buY4qFvV"
      }
    },
    {
      "cell_type": "code",
      "source": [],
      "metadata": {
        "id": "QJFthYUqqSE9"
      },
      "execution_count": null,
      "outputs": []
    }
  ]
}